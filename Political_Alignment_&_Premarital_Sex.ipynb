{
  "nbformat": 4,
  "nbformat_minor": 0,
  "metadata": {
    "kernelspec": {
      "display_name": "Python 3",
      "language": "python",
      "name": "python3"
    },
    "language_info": {
      "codemirror_mode": {
        "name": "ipython",
        "version": 3
      },
      "file_extension": ".py",
      "mimetype": "text/x-python",
      "name": "python",
      "nbconvert_exporter": "python",
      "pygments_lexer": "ipython3",
      "version": "3.7.6"
    },
    "colab": {
      "name": "Political Alignment & Premarital Sex.ipynb",
      "provenance": []
    }
  },
  "cells": [
    {
      "cell_type": "markdown",
      "metadata": {
        "id": "YY-CGYt7cM3L"
      },
      "source": [
        "# Political Alignment Case Study\n",
        "\n",
        "Allen Downey\n",
        "\n",
        "[MIT License](https://en.wikipedia.org/wiki/MIT_License)\n",
        "\n",
        "\n",
        "### Introduction\n",
        "\n",
        "This notebook is a template for a do-it-yourself, choose-your-own-adventure mini-project that explores the relationship between political alignment and other attitudes and beliefs.\n",
        "\n",
        "I will outline the steps and provide sample code.  You can choose which survey question to explore, adapt my code for your data, and write a report presenting the results."
      ]
    },
    {
      "cell_type": "markdown",
      "metadata": {
        "id": "T1yL_OqrcM3M"
      },
      "source": [
        "In previous notebooks, we looked at changes in political alignment over time, and explored the relationship between political alignment and survey questions related to \"outlook\".\n",
        "\n",
        "The analysis in this notebook follows the steps we have seen:\n",
        "\n",
        "1) For your variable of interest, you will read the code book to understand the question and valid responses.\n",
        "\n",
        "2) You will compute and display the distribution (PMF) of responses and the distribution within each political group.\n",
        "\n",
        "3) You will recode the variable on a numerical scale that makes it possible to interpret the mean, and then plot the mean over time.\n",
        "\n",
        "4) You will use a pivot table to compute the mean of your variable over time for each political alignment group (liberal, moderate, and conservative).\n",
        "\n",
        "5) Finally, you will look at results from three resamplings of the data to see whether the patterns you observed might be due to random sampling."
      ]
    },
    {
      "cell_type": "markdown",
      "metadata": {
        "id": "haQOIAgtcM3M"
      },
      "source": [
        "### Setup\n",
        "\n",
        "If you are running this notebook in Colab, the following cell installs the `empiricaldist` library.\n",
        "\n",
        "If you are running in another environment, you will need to install it yourself."
      ]
    },
    {
      "cell_type": "code",
      "metadata": {
        "id": "jDerI6VdcM3N",
        "colab": {
          "base_uri": "https://localhost:8080/",
          "height": 168
        },
        "outputId": "5e8d7084-5759-41b0-c636-064366dbee09"
      },
      "source": [
        "# If we're running in Colab, set up the environment\n",
        "\n",
        "import sys\n",
        "IN_COLAB = 'google.colab' in sys.modules\n",
        "\n",
        "if IN_COLAB:\n",
        "    !pip install empiricaldist"
      ],
      "execution_count": null,
      "outputs": [
        {
          "output_type": "stream",
          "text": [
            "Collecting empiricaldist\n",
            "  Downloading https://files.pythonhosted.org/packages/c4/88/b6c44c1a5078224850473a8a6b82614d79147232113dd35e29de34b9ac8a/empiricaldist-0.3.9.tar.gz\n",
            "Building wheels for collected packages: empiricaldist\n",
            "  Building wheel for empiricaldist (setup.py) ... \u001b[?25l\u001b[?25hdone\n",
            "  Created wheel for empiricaldist: filename=empiricaldist-0.3.9-cp36-none-any.whl size=10157 sha256=b2e9976e4f43a26588eef58705f3631bfa95439a38fbf4188cb5e8eec62c8991\n",
            "  Stored in directory: /root/.cache/pip/wheels/bf/70/8c/55788f5a5806e6da295e5da80d2c0ef286d9a8260a1e3142e1\n",
            "Successfully built empiricaldist\n",
            "Installing collected packages: empiricaldist\n",
            "Successfully installed empiricaldist-0.3.9\n"
          ],
          "name": "stdout"
        }
      ]
    },
    {
      "cell_type": "markdown",
      "metadata": {
        "id": "k53aki4zcM3R"
      },
      "source": [
        "If everything we need is installed, the following cell should run without error."
      ]
    },
    {
      "cell_type": "code",
      "metadata": {
        "id": "m5SYTV8OcM3S"
      },
      "source": [
        "import pandas as pd\n",
        "import numpy as np\n",
        "import matplotlib.pyplot as plt\n",
        "import seaborn as sns\n",
        "\n",
        "from empiricaldist import Pmf"
      ],
      "execution_count": null,
      "outputs": []
    },
    {
      "cell_type": "markdown",
      "metadata": {
        "id": "REAmTNyPcM3U"
      },
      "source": [
        "The following cells define functions from previous notebooks we will use again."
      ]
    },
    {
      "cell_type": "code",
      "metadata": {
        "id": "uGqwA2AZcM3V"
      },
      "source": [
        "def values(series):\n",
        "    \"\"\"Count the values and sort.\n",
        "    \n",
        "    series: pd.Series\n",
        "    \n",
        "    returns: series mapping from values to frequencies\n",
        "    \"\"\"\n",
        "    return series.value_counts().sort_index()"
      ],
      "execution_count": null,
      "outputs": []
    },
    {
      "cell_type": "code",
      "metadata": {
        "id": "O1x2kyi2cM3X"
      },
      "source": [
        "def decorate(**options):\n",
        "    \"\"\"Decorate the current axes.\n",
        "    Call decorate with keyword arguments like\n",
        "    decorate(title='Title',\n",
        "             xlabel='x',\n",
        "             ylabel='y')\n",
        "    The keyword arguments can be any of the axis properties\n",
        "    https://matplotlib.org/api/axes_api.html\n",
        "    \"\"\"\n",
        "    plt.gca().set(**options)\n",
        "    plt.tight_layout()"
      ],
      "execution_count": null,
      "outputs": []
    },
    {
      "cell_type": "code",
      "metadata": {
        "id": "LFE3oVQecM3a",
        "colab": {
          "base_uri": "https://localhost:8080/",
          "height": 70
        },
        "outputId": "b65b7dcf-9c8e-42da-c24d-0635501daf96"
      },
      "source": [
        "from statsmodels.nonparametric.smoothers_lowess import lowess\n",
        "\n",
        "def make_lowess(series):\n",
        "    \"\"\"Use LOWESS to compute a smooth line.\n",
        "    \n",
        "    series: pd.Series\n",
        "    \n",
        "    returns: pd.Series\n",
        "    \"\"\"\n",
        "    y = series.values\n",
        "    x = series.index.values\n",
        "\n",
        "    smooth = lowess(y, x)\n",
        "    index, data = np.transpose(smooth)\n",
        "\n",
        "    return pd.Series(data, index=index) "
      ],
      "execution_count": null,
      "outputs": [
        {
          "output_type": "stream",
          "text": [
            "/usr/local/lib/python3.6/dist-packages/statsmodels/tools/_testing.py:19: FutureWarning: pandas.util.testing is deprecated. Use the functions in the public API at pandas.testing instead.\n",
            "  import pandas.util.testing as tm\n"
          ],
          "name": "stderr"
        }
      ]
    },
    {
      "cell_type": "code",
      "metadata": {
        "id": "jbD4zOKWcM3d"
      },
      "source": [
        "def plot_series_lowess(series, color):\n",
        "    \"\"\"Plots a series of data points and a smooth line.\n",
        "    \n",
        "    series: pd.Series\n",
        "    color: string or tuple\n",
        "    \"\"\"\n",
        "    series.plot(linewidth=0, marker='o', color=color, alpha=0.5)\n",
        "    smooth = make_lowess(series)\n",
        "    smooth.plot(label='_', color=color)"
      ],
      "execution_count": null,
      "outputs": []
    },
    {
      "cell_type": "code",
      "metadata": {
        "id": "AoGQPhkocM3g"
      },
      "source": [
        "def plot_columns_lowess(table, columns, color_map):\n",
        "    \"\"\"Plot the columns in a DataFrame.\n",
        "    \n",
        "    table: DataFrame with a cross tabulation\n",
        "    columns: list of column names, in the desired order\n",
        "    color_map: mapping from column names to color_map\n",
        "    \"\"\"\n",
        "    for col in columns:\n",
        "        series = table[col]\n",
        "        plot_series_lowess(series, color_map[col])"
      ],
      "execution_count": null,
      "outputs": []
    },
    {
      "cell_type": "markdown",
      "metadata": {
        "id": "R4yO6iM-cM3j"
      },
      "source": [
        "### Loading the data\n",
        "\n",
        "In the first notebook, we downloaded GSS data, loaded and cleaned it, resampled it to correct for stratified sampling, and then saved the data in an HDF5 file, which is much faster to load.\n",
        "\n",
        "The following cells downloads the file."
      ]
    },
    {
      "cell_type": "code",
      "metadata": {
        "id": "aVRC4X7AcM3j"
      },
      "source": [
        "# Load the data file\n",
        "\n",
        "import os\n",
        "\n",
        "datafile = 'gss_eda.3.hdf5'\n",
        "if not os.path.exists(datafile):\n",
        "    !wget https://github.com/AllenDowney/PoliticalAlignmentCaseStudy/raw/master/gss_eda.3.hdf5\n"
      ],
      "execution_count": null,
      "outputs": []
    },
    {
      "cell_type": "markdown",
      "metadata": {
        "id": "iHid8ifzcM3m"
      },
      "source": [
        "Now I'll load one of the resampled DataFrames."
      ]
    },
    {
      "cell_type": "code",
      "metadata": {
        "id": "VxTMqqBgcM3m",
        "colab": {
          "base_uri": "https://localhost:8080/",
          "height": 34
        },
        "outputId": "ec07783c-6629-427c-baeb-ac9ea8084ce5"
      },
      "source": [
        "gss = pd.read_hdf(datafile, 'gss0')\n",
        "gss.shape"
      ],
      "execution_count": null,
      "outputs": [
        {
          "output_type": "execute_result",
          "data": {
            "text/plain": [
              "(64814, 169)"
            ]
          },
          "metadata": {
            "tags": []
          },
          "execution_count": 12
        }
      ]
    },
    {
      "cell_type": "markdown",
      "metadata": {
        "id": "LGMNVKpwcM3r"
      },
      "source": [
        "## Changes in social attitudes\n",
        "\n",
        "The General Social Survey includes questions about a variety of social attitudes and beliefs.  We can use this dataset to explore changes in the responses over time and the relationship with political alignment.\n",
        "\n",
        "In my subset of the GSS data, I selected questions that were asked repeatedly over the interval of the survey.  [You can see the variables I chose on the GSS web site](https://gssdataexplorer.norc.org/projects/52787/variables/data_cart).\n",
        "\n",
        "To do the exercises in this notebook, you should choose a variable that you think might be interesting.\n",
        "\n",
        "I will walk you through a process for exploring the variable you choose, but you should feel free to ignore my suggestions if you have a better idea."
      ]
    },
    {
      "cell_type": "markdown",
      "metadata": {
        "id": "iM9qslLqcM3r"
      },
      "source": [
        "If you are not sure which variable to explore, here is a [random selection of three that you can choose from](https://en.wikipedia.org/wiki/The_Paradox_of_Choice):"
      ]
    },
    {
      "cell_type": "code",
      "metadata": {
        "id": "CO9KstkUcM3s",
        "colab": {
          "base_uri": "https://localhost:8080/",
          "height": 67
        },
        "outputId": "e609a94f-2136-425a-817d-68e6a39ad069"
      },
      "source": [
        "cols = list(gss.columns)\n",
        "for col in ['ballot', 'id_', 'year']:\n",
        "    cols.remove(col)\n",
        "    \n",
        "np.random.shuffle(cols)\n",
        "for col in cols[:3]:\n",
        "    print(col)"
      ],
      "execution_count": null,
      "outputs": [
        {
          "output_type": "stream",
          "text": [
            "spkath\n",
            "hapmar\n",
            "reg16\n"
          ],
          "name": "stdout"
        }
      ]
    },
    {
      "cell_type": "markdown",
      "metadata": {
        "id": "Xi2E-DrUcM3u"
      },
      "source": [
        "\n",
        "\n",
        "1.   List item\n",
        "2.   List item\n",
        "\n",
        "\n",
        "## Attitudes about Premarital sex\n",
        "\n",
        "As my Project 1, I will look at responses to the following [question related to attitudes about having sex relations before marriage](https://gssdataexplorer.norc.org/variables/631/vshow).\n",
        "\n",
        ">There's been a lot of discussion about the way morals and attitudes about sex are changing in this country. If a man and woman have sex relations before marriage, do you think it is always wrong, almost always wrong, wrong only\n",
        "sometimes, or not wrong at all?\n",
        "\n",
        "The valid responses are:\n",
        "\n",
        "```\n",
        "1\tAlways wrong\n",
        "2\tAlmost always wrong\n",
        "3\tSometimes wrong\n",
        "4\tNot wrong at all\n",
        "```\n",
        "\n",
        "Here's the distribution of responses:"
      ]
    },
    {
      "cell_type": "code",
      "metadata": {
        "id": "Kh0Fg1ifcM3v",
        "colab": {
          "base_uri": "https://localhost:8080/",
          "height": 101
        },
        "outputId": "e28d754d-7d42-4b4e-af06-4a7394fa17e4"
      },
      "source": [
        "values(gss['premarsx'])"
      ],
      "execution_count": null,
      "outputs": [
        {
          "output_type": "execute_result",
          "data": {
            "text/plain": [
              "1.0    10145\n",
              "2.0     3518\n",
              "3.0     7887\n",
              "4.0    17012\n",
              "Name: premarsx, dtype: int64"
            ]
          },
          "metadata": {
            "tags": []
          },
          "execution_count": 14
        }
      ]
    },
    {
      "cell_type": "markdown",
      "metadata": {
        "id": "muZryycucM3x"
      },
      "source": [
        "And here's what the distribution looks like."
      ]
    },
    {
      "cell_type": "code",
      "metadata": {
        "id": "LmHXTCp_cM3y",
        "colab": {
          "base_uri": "https://localhost:8080/",
          "height": 349
        },
        "outputId": "00ca1336-3698-4838-e7e6-ee3bb6bc1dfc"
      },
      "source": [
        "pmf = Pmf.from_seq(gss['premarsx'])\n",
        "pmf.bar(alpha=0.7)\n",
        "\n",
        "decorate(xlabel='Response',\n",
        "         ylabel='PMF',\n",
        "         title='Distribution of responses')\n",
        "\n",
        "responses = [1, 2, 3, 4]\n",
        "\n",
        "labels = ['Always wrong',\n",
        "          'Almost always wrong',\n",
        "          'Sometimes wrong',\n",
        "          'Not at all wrong']\n",
        "\n",
        "plt.xticks(responses, labels, rotation=30);"
      ],
      "execution_count": null,
      "outputs": [
        {
          "output_type": "display_data",
          "data": {
            "image/png": "[encoded data removed]",
            "text/plain": [
              "<Figure size 432x288 with 1 Axes>"
            ]
          },
          "metadata": {
            "tags": [],
            "needs_background": "light"
          }
        }
      ]
    },
    {
      "cell_type": "markdown",
      "metadata": {
        "id": "m8Pv8pjZH7WM"
      },
      "source": [
        "Interpretation: "
      ]
    },
    {
      "cell_type": "markdown",
      "metadata": {
        "id": "WadxYh8wcM32"
      },
      "source": [
        "When you write your report, you should add a few sentences here to interpret the results you get for your variable.\n",
        "\n",
        "But remember that the results are an average over the entire interval of the survey, so you should not interpet it as a current condition."
      ]
    },
    {
      "cell_type": "markdown",
      "metadata": {
        "id": "dCiAzvD1cM33"
      },
      "source": [
        "## Responses over time\n",
        "\n",
        "If we make a cross tabulation of `year` and the variable of interest, we get the distribution of responses over time."
      ]
    },
    {
      "cell_type": "code",
      "metadata": {
        "id": "FHgYhKhTcM34",
        "colab": {
          "base_uri": "https://localhost:8080/",
          "height": 225
        },
        "outputId": "e656827e-e40a-412b-cb69-8036b877c1d8"
      },
      "source": [
        "xtab = pd.crosstab(gss['year'], gss['premarsx'], normalize='index')\n",
        "xtab.head()"
      ],
      "execution_count": null,
      "outputs": [
        {
          "output_type": "execute_result",
          "data": {
            "text/html": [
              "<div>\n",
              "<style scoped>\n",
              "    .dataframe tbody tr th:only-of-type {\n",
              "        vertical-align: middle;\n",
              "    }\n",
              "\n",
              "    .dataframe tbody tr th {\n",
              "        vertical-align: top;\n",
              "    }\n",
              "\n",
              "    .dataframe thead th {\n",
              "        text-align: right;\n",
              "    }\n",
              "</style>\n",
              "<table border=\"1\" class=\"dataframe\">\n",
              "  <thead>\n",
              "    <tr style=\"text-align: right;\">\n",
              "      <th>premarsx</th>\n",
              "      <th>1.0</th>\n",
              "      <th>2.0</th>\n",
              "      <th>3.0</th>\n",
              "      <th>4.0</th>\n",
              "    </tr>\n",
              "    <tr>\n",
              "      <th>year</th>\n",
              "      <th></th>\n",
              "      <th></th>\n",
              "      <th></th>\n",
              "      <th></th>\n",
              "    </tr>\n",
              "  </thead>\n",
              "  <tbody>\n",
              "    <tr>\n",
              "      <th>1972</th>\n",
              "      <td>0.361147</td>\n",
              "      <td>0.114081</td>\n",
              "      <td>0.257497</td>\n",
              "      <td>0.267275</td>\n",
              "    </tr>\n",
              "    <tr>\n",
              "      <th>1974</th>\n",
              "      <td>0.335430</td>\n",
              "      <td>0.124389</td>\n",
              "      <td>0.236198</td>\n",
              "      <td>0.303983</td>\n",
              "    </tr>\n",
              "    <tr>\n",
              "      <th>1975</th>\n",
              "      <td>0.291344</td>\n",
              "      <td>0.131597</td>\n",
              "      <td>0.253343</td>\n",
              "      <td>0.323716</td>\n",
              "    </tr>\n",
              "    <tr>\n",
              "      <th>1977</th>\n",
              "      <td>0.301480</td>\n",
              "      <td>0.096904</td>\n",
              "      <td>0.241588</td>\n",
              "      <td>0.360027</td>\n",
              "    </tr>\n",
              "    <tr>\n",
              "      <th>1978</th>\n",
              "      <td>0.288385</td>\n",
              "      <td>0.138184</td>\n",
              "      <td>0.199599</td>\n",
              "      <td>0.373832</td>\n",
              "    </tr>\n",
              "  </tbody>\n",
              "</table>\n",
              "</div>"
            ],
            "text/plain": [
              "premarsx       1.0       2.0       3.0       4.0\n",
              "year                                            \n",
              "1972      0.361147  0.114081  0.257497  0.267275\n",
              "1974      0.335430  0.124389  0.236198  0.303983\n",
              "1975      0.291344  0.131597  0.253343  0.323716\n",
              "1977      0.301480  0.096904  0.241588  0.360027\n",
              "1978      0.288385  0.138184  0.199599  0.373832"
            ]
          },
          "metadata": {
            "tags": []
          },
          "execution_count": 16
        }
      ]
    },
    {
      "cell_type": "code",
      "metadata": {
        "id": "2KKMCPeWcM36",
        "colab": {
          "base_uri": "https://localhost:8080/",
          "height": 225
        },
        "outputId": "f7258e37-1bd8-40de-8d30-ce6135705a8c"
      },
      "source": [
        "xtab.tail()"
      ],
      "execution_count": null,
      "outputs": [
        {
          "output_type": "execute_result",
          "data": {
            "text/html": [
              "<div>\n",
              "<style scoped>\n",
              "    .dataframe tbody tr th:only-of-type {\n",
              "        vertical-align: middle;\n",
              "    }\n",
              "\n",
              "    .dataframe tbody tr th {\n",
              "        vertical-align: top;\n",
              "    }\n",
              "\n",
              "    .dataframe thead th {\n",
              "        text-align: right;\n",
              "    }\n",
              "</style>\n",
              "<table border=\"1\" class=\"dataframe\">\n",
              "  <thead>\n",
              "    <tr style=\"text-align: right;\">\n",
              "      <th>premarsx</th>\n",
              "      <th>1.0</th>\n",
              "      <th>2.0</th>\n",
              "      <th>3.0</th>\n",
              "      <th>4.0</th>\n",
              "    </tr>\n",
              "    <tr>\n",
              "      <th>year</th>\n",
              "      <th></th>\n",
              "      <th></th>\n",
              "      <th></th>\n",
              "      <th></th>\n",
              "    </tr>\n",
              "  </thead>\n",
              "  <tbody>\n",
              "    <tr>\n",
              "      <th>2010</th>\n",
              "      <td>0.217391</td>\n",
              "      <td>0.083272</td>\n",
              "      <td>0.175387</td>\n",
              "      <td>0.523950</td>\n",
              "    </tr>\n",
              "    <tr>\n",
              "      <th>2012</th>\n",
              "      <td>0.219453</td>\n",
              "      <td>0.049839</td>\n",
              "      <td>0.167203</td>\n",
              "      <td>0.563505</td>\n",
              "    </tr>\n",
              "    <tr>\n",
              "      <th>2014</th>\n",
              "      <td>0.197855</td>\n",
              "      <td>0.052443</td>\n",
              "      <td>0.162098</td>\n",
              "      <td>0.587604</td>\n",
              "    </tr>\n",
              "    <tr>\n",
              "      <th>2016</th>\n",
              "      <td>0.196986</td>\n",
              "      <td>0.061356</td>\n",
              "      <td>0.131324</td>\n",
              "      <td>0.610334</td>\n",
              "    </tr>\n",
              "    <tr>\n",
              "      <th>2018</th>\n",
              "      <td>0.178840</td>\n",
              "      <td>0.064164</td>\n",
              "      <td>0.135154</td>\n",
              "      <td>0.621843</td>\n",
              "    </tr>\n",
              "  </tbody>\n",
              "</table>\n",
              "</div>"
            ],
            "text/plain": [
              "premarsx       1.0       2.0       3.0       4.0\n",
              "year                                            \n",
              "2010      0.217391  0.083272  0.175387  0.523950\n",
              "2012      0.219453  0.049839  0.167203  0.563505\n",
              "2014      0.197855  0.052443  0.162098  0.587604\n",
              "2016      0.196986  0.061356  0.131324  0.610334\n",
              "2018      0.178840  0.064164  0.135154  0.621843"
            ]
          },
          "metadata": {
            "tags": []
          },
          "execution_count": 17
        }
      ]
    },
    {
      "cell_type": "markdown",
      "metadata": {
        "id": "lESrzogHcM38"
      },
      "source": [
        "Now we can plot the results."
      ]
    },
    {
      "cell_type": "code",
      "metadata": {
        "id": "FhneRs7qcM39",
        "colab": {
          "base_uri": "https://localhost:8080/",
          "height": 297
        },
        "outputId": "6eff9823-ef23-4c6d-f081-3a7d13636922"
      },
      "source": [
        "for response, label in zip(responses, labels):\n",
        "    xtab[response].plot(label=label)\n",
        "\n",
        "decorate(xlabel='Year',\n",
        "         ylabel='Percentage',\n",
        "         xlim=[1972, 2019],\n",
        "         title='Attitudes about sex before marriage')\n",
        "\n",
        "plt.legend();"
      ],
      "execution_count": null,
      "outputs": [
        {
          "output_type": "display_data",
          "data": {
            "image/png": "[encoded data removed]",
            "text/plain": [
              "<Figure size 432x288 with 1 Axes>"
            ]
          },
          "metadata": {
            "tags": [],
            "needs_background": "light"
          }
        }
      ]
    },
    {
      "cell_type": "markdown",
      "metadata": {
        "id": "zWiB8O8u-Xfx"
      },
      "source": [
        "My Report"
      ]
    },
    {
      "cell_type": "markdown",
      "metadata": {
        "id": "CG_pBR5c-lhm"
      },
      "source": [
        ""
      ]
    },
    {
      "cell_type": "markdown",
      "metadata": {
        "id": "QvmPWwgLcM4A"
      },
      "source": [
        "When you write your report, you should add a few sentences here to interpret the results you get for your variable."
      ]
    },
    {
      "cell_type": "markdown",
      "metadata": {
        "id": "qO4TTJsxcM4A"
      },
      "source": [
        "## Political alignment\n",
        "\n",
        "To explore the relationship between this variable and political alignment, I'll recode political alignment into three groups:"
      ]
    },
    {
      "cell_type": "code",
      "metadata": {
        "id": "lS8u6glYcM4C"
      },
      "source": [
        "d_polviews = {1: 'Liberal', \n",
        "              2: 'Liberal', \n",
        "              3: 'Liberal', \n",
        "              4: 'Moderate', \n",
        "              5: 'Conservative', \n",
        "              6: 'Conservative', \n",
        "              7: 'Conservative'}"
      ],
      "execution_count": null,
      "outputs": []
    },
    {
      "cell_type": "markdown",
      "metadata": {
        "id": "id7TzEvKcM4F"
      },
      "source": [
        "I'll use `replace`, as we've seen before, and store the result as a new column in the DataFrame."
      ]
    },
    {
      "cell_type": "code",
      "metadata": {
        "id": "ffv1WHxzcM4F"
      },
      "source": [
        "gss['polviews3'] = gss['polviews'].replace(d_polviews)"
      ],
      "execution_count": null,
      "outputs": []
    },
    {
      "cell_type": "markdown",
      "metadata": {
        "id": "0dF6lscjcM4H"
      },
      "source": [
        "With this scale, there are roughly the same number of people in each group."
      ]
    },
    {
      "cell_type": "code",
      "metadata": {
        "id": "LapKwra3cM4I",
        "colab": {
          "base_uri": "https://localhost:8080/",
          "height": 84
        },
        "outputId": "9685ef49-101c-4bd8-b242-8495ef2009df"
      },
      "source": [
        "values(gss['polviews3'])"
      ],
      "execution_count": null,
      "outputs": [
        {
          "output_type": "execute_result",
          "data": {
            "text/plain": [
              "Conservative    19129\n",
              "Liberal         14979\n",
              "Moderate        21444\n",
              "Name: polviews3, dtype: int64"
            ]
          },
          "metadata": {
            "tags": []
          },
          "execution_count": 21
        }
      ]
    },
    {
      "cell_type": "code",
      "metadata": {
        "id": "oUf-8RCNcM4K",
        "colab": {
          "base_uri": "https://localhost:8080/",
          "height": 297
        },
        "outputId": "aedc543b-1a52-4ac2-b844-d41f0e11f0cd"
      },
      "source": [
        "pmf = Pmf.from_seq(gss['polviews3'])\n",
        "pmf.bar(color='C1', alpha=0.7)\n",
        "\n",
        "decorate(xlabel='Political alignment',\n",
        "         ylabel='PMF',\n",
        "         title='Distribution of political alignment')"
      ],
      "execution_count": null,
      "outputs": [
        {
          "output_type": "display_data",
          "data": {
            "image/png": "[encoded data removed]",
            "text/plain": [
              "<Figure size 432x288 with 1 Axes>"
            ]
          },
          "metadata": {
            "tags": [],
            "needs_background": "light"
          }
        }
      ]
    },
    {
      "cell_type": "markdown",
      "metadata": {
        "id": "GHSvtXRkcM4M"
      },
      "source": [
        "## Group by political alignment\n",
        "\n",
        "Now we can use `groupby` to group the respondents by political alignment."
      ]
    },
    {
      "cell_type": "code",
      "metadata": {
        "id": "8EaB34s3cM4N"
      },
      "source": [
        "by_polviews = gss.groupby('polviews3')"
      ],
      "execution_count": null,
      "outputs": []
    },
    {
      "cell_type": "markdown",
      "metadata": {
        "id": "nxvIudzmcM4P"
      },
      "source": [
        "Next I will plot the distribution of responses in each group.\n",
        "\n",
        "But first I'll make a dictionary that maps from each group to a color."
      ]
    },
    {
      "cell_type": "code",
      "metadata": {
        "id": "dhpRUdaAcM4P",
        "colab": {
          "base_uri": "https://localhost:8080/",
          "height": 89
        },
        "outputId": "22e955b4-20f1-41ed-ed5d-40b2097c717d"
      },
      "source": [
        "muted = sns.color_palette('muted', 5)\n",
        "sns.palplot(muted)"
      ],
      "execution_count": null,
      "outputs": [
        {
          "output_type": "display_data",
          "data": {
            "image/png": "[encoded data removed]",
            "text/plain": [
              "<Figure size 360x72 with 1 Axes>"
            ]
          },
          "metadata": {
            "tags": [],
            "needs_background": "light"
          }
        }
      ]
    },
    {
      "cell_type": "code",
      "metadata": {
        "id": "RT2NATEHcM4S"
      },
      "source": [
        "color_map = {'Conservative': muted[3], \n",
        "              'Moderate': muted[4], \n",
        "               'Liberal': muted[0]}"
      ],
      "execution_count": null,
      "outputs": []
    },
    {
      "cell_type": "markdown",
      "metadata": {
        "id": "7WHyFFDocM4V"
      },
      "source": [
        "Now I'll make a PMF of responses for each group."
      ]
    },
    {
      "cell_type": "code",
      "metadata": {
        "id": "lL4ztHVBcM4V",
        "colab": {
          "base_uri": "https://localhost:8080/",
          "height": 857
        },
        "outputId": "fad10762-fa0b-425f-cf64-5623b767ed6c"
      },
      "source": [
        "for name in color_map:\n",
        "    group = by_polviews.get_group(name)\n",
        "    \n",
        "    plt.figure()\n",
        "    pmf = Pmf.from_seq(group['premarsx'])\n",
        "    pmf.bar(label=name, color=color_map[name], alpha=0.7)\n",
        "    \n",
        "    decorate(xlabel='Response',\n",
        "             ylabel='PMF',\n",
        "             title='Distribution of responses')\n",
        "    \n",
        "    plt.legend()"
      ],
      "execution_count": null,
      "outputs": [
        {
          "output_type": "display_data",
          "data": {
            "image/png": "[encoded data removed]",
            "text/plain": [
              "<Figure size 432x288 with 1 Axes>"
            ]
          },
          "metadata": {
            "tags": [],
            "needs_background": "light"
          }
        },
        {
          "output_type": "display_data",
          "data": {
            "image/png": "[encoded data removed]",
            "text/plain": [
              "<Figure size 432x288 with 1 Axes>"
            ]
          },
          "metadata": {
            "tags": [],
            "needs_background": "light"
          }
        },
        {
          "output_type": "display_data",
          "data": {
            "image/png": "[encoded data removed]",
            "text/plain": [
              "<Figure size 432x288 with 1 Axes>"
            ]
          },
          "metadata": {
            "tags": [],
            "needs_background": "light"
          }
        }
      ]
    },
    {
      "cell_type": "markdown",
      "metadata": {
        "id": "lh8m1XQ5cM4Y"
      },
      "source": [
        "When you write your report, you should add a few sentences here to interpret the results.\n",
        "\n",
        "But again, the results are an average over the entire interval of the survey, so you should not interpet it as a current condition."
      ]
    },
    {
      "cell_type": "markdown",
      "metadata": {
        "id": "dvXLq13HcM4Y"
      },
      "source": [
        "## Recode\n",
        "\n",
        "For each group, we could compute the mean of the responses, but it would be hard to interpret. So we'll recode the variable of interest to make the mean more... meaningful.\n",
        "\n",
        "For the variable I chose, a majority of respondents chose \"always wrong\".  I'll use that as my baseline response with code 1, and lump the other responses with code 0."
      ]
    },
    {
      "cell_type": "code",
      "metadata": {
        "id": "2HcX7puecM4Z"
      },
      "source": [
        "d_recode = {1:0, 2:0, 3:0, 4:1}"
      ],
      "execution_count": null,
      "outputs": []
    },
    {
      "cell_type": "markdown",
      "metadata": {
        "id": "vFw0RzMVcM4b"
      },
      "source": [
        "We can use `replace` to recode the values and store the result as a new column in the DataFrame."
      ]
    },
    {
      "cell_type": "code",
      "metadata": {
        "id": "cq2RsWfxcM4b"
      },
      "source": [
        "gss['recoded'] = gss['premarsx'].replace(d_recode)"
      ],
      "execution_count": null,
      "outputs": []
    },
    {
      "cell_type": "markdown",
      "metadata": {
        "id": "lH_Nl84OcM4d"
      },
      "source": [
        "And we'll use `values` to check whether it worked."
      ]
    },
    {
      "cell_type": "code",
      "metadata": {
        "id": "KR1D4BCIcM4e",
        "colab": {
          "base_uri": "https://localhost:8080/",
          "height": 67
        },
        "outputId": "9b502806-890b-48a6-cd14-a29461ead31f"
      },
      "source": [
        "values(gss['recoded'])"
      ],
      "execution_count": null,
      "outputs": [
        {
          "output_type": "execute_result",
          "data": {
            "text/plain": [
              "0.0    21550\n",
              "1.0    17012\n",
              "Name: recoded, dtype: int64"
            ]
          },
          "metadata": {
            "tags": []
          },
          "execution_count": 29
        }
      ]
    },
    {
      "cell_type": "markdown",
      "metadata": {
        "id": "RqC5bNRQcM4i"
      },
      "source": [
        "Now if we compute the mean, we can interpret it as \"the fraction of respondents who think same-sex sexual relations are always wrong\"."
      ]
    },
    {
      "cell_type": "code",
      "metadata": {
        "id": "_cr2_xcecM4j",
        "colab": {
          "base_uri": "https://localhost:8080/",
          "height": 34
        },
        "outputId": "b1ae21f7-9a38-4f4b-c710-cdef9ae4313d"
      },
      "source": [
        "gss['recoded'].mean()"
      ],
      "execution_count": null,
      "outputs": [
        {
          "output_type": "execute_result",
          "data": {
            "text/plain": [
              "0.4411596953868866"
            ]
          },
          "metadata": {
            "tags": []
          },
          "execution_count": 30
        }
      ]
    },
    {
      "cell_type": "markdown",
      "metadata": {
        "id": "N07_XA8BcM4m"
      },
      "source": [
        "## Average by group\n",
        "\n"
      ]
    },
    {
      "cell_type": "markdown",
      "metadata": {
        "id": "YkhpCWSecM4m"
      },
      "source": [
        "Now we can compute the mean of the recoded variable in each group."
      ]
    },
    {
      "cell_type": "code",
      "metadata": {
        "id": "N1dJxSVzcM4n",
        "colab": {
          "base_uri": "https://localhost:8080/",
          "height": 101
        },
        "outputId": "111e691f-62fa-4334-94ef-ab6e089cafc6"
      },
      "source": [
        "means = by_polviews['recoded'].mean()\n",
        "means"
      ],
      "execution_count": null,
      "outputs": [
        {
          "output_type": "execute_result",
          "data": {
            "text/plain": [
              "polviews3\n",
              "Conservative    0.337275\n",
              "Liberal         0.587758\n",
              "Moderate        0.465488\n",
              "Name: recoded, dtype: float32"
            ]
          },
          "metadata": {
            "tags": []
          },
          "execution_count": 42
        }
      ]
    },
    {
      "cell_type": "markdown",
      "metadata": {
        "id": "A1svxsMicM4q"
      },
      "source": [
        "To get the values in a particular order, we can use the group names as an index:"
      ]
    },
    {
      "cell_type": "code",
      "metadata": {
        "id": "4Zxfnt9NcM4q",
        "colab": {
          "base_uri": "https://localhost:8080/",
          "height": 34
        },
        "outputId": "96242b24-ebda-43fb-a380-860790524090"
      },
      "source": [
        "names = color_map.keys()\n",
        "names"
      ],
      "execution_count": null,
      "outputs": [
        {
          "output_type": "execute_result",
          "data": {
            "text/plain": [
              "dict_keys(['Conservative', 'Moderate', 'Liberal'])"
            ]
          },
          "metadata": {
            "tags": []
          },
          "execution_count": 43
        }
      ]
    },
    {
      "cell_type": "code",
      "metadata": {
        "id": "AqpyeN27cM4t",
        "colab": {
          "base_uri": "https://localhost:8080/",
          "height": 101
        },
        "outputId": "280d7385-ee72-44ab-b308-ac83f18b7219"
      },
      "source": [
        "means[names]"
      ],
      "execution_count": null,
      "outputs": [
        {
          "output_type": "execute_result",
          "data": {
            "text/plain": [
              "polviews3\n",
              "Conservative    0.337275\n",
              "Moderate        0.465488\n",
              "Liberal         0.587758\n",
              "Name: recoded, dtype: float32"
            ]
          },
          "metadata": {
            "tags": []
          },
          "execution_count": 33
        }
      ]
    },
    {
      "cell_type": "markdown",
      "metadata": {
        "id": "QUGgUJbBcM4w"
      },
      "source": [
        "Now we can make a bar plot with color-coded bars:"
      ]
    },
    {
      "cell_type": "code",
      "metadata": {
        "id": "q5hvg07ZcM4w",
        "colab": {
          "base_uri": "https://localhost:8080/",
          "height": 273
        },
        "outputId": "eb0146b8-96c3-4b71-96e8-7742bdd4b899"
      },
      "source": [
        "colors = color_map.values()\n",
        "\n",
        "means[names].plot(kind='bar', color=colors, alpha=0.7)\n",
        "\n",
        "decorate(xlabel='Political alignment',\n",
        "         ylabel='Fraction saying yes',\n",
        "         title='Is premarital not wrong at all?')\n",
        "\n",
        "plt.xticks(rotation='30');"
      ],
      "execution_count": null,
      "outputs": [
        {
          "output_type": "display_data",
          "data": {
            "image/png": "[encoded data removed]",
            "text/plain": [
              "<Figure size 432x288 with 1 Axes>"
            ]
          },
          "metadata": {
            "tags": [],
            "needs_background": "light"
          }
        }
      ]
    },
    {
      "cell_type": "markdown",
      "metadata": {
        "id": "ukhQcPk9cM4y"
      },
      "source": [
        "When you write your report, you should add a few sentences here to interpret the results you get for your variable."
      ]
    },
    {
      "cell_type": "markdown",
      "metadata": {
        "id": "kl-htl9zcM4z"
      },
      "source": [
        "## Time series\n",
        "\n",
        "As we saw in previous notebooks, we can use `groupby` to group responses by year."
      ]
    },
    {
      "cell_type": "code",
      "metadata": {
        "id": "3S7-UlLHcM4z"
      },
      "source": [
        "by_year = gss.groupby('year')"
      ],
      "execution_count": null,
      "outputs": []
    },
    {
      "cell_type": "markdown",
      "metadata": {
        "id": "caKeW46bcM43"
      },
      "source": [
        "From the result we can select the recoded variable and compute the mean."
      ]
    },
    {
      "cell_type": "code",
      "metadata": {
        "id": "kSx0z-lEcM44"
      },
      "source": [
        "time_series = by_year['recoded'].mean()"
      ],
      "execution_count": null,
      "outputs": []
    },
    {
      "cell_type": "markdown",
      "metadata": {
        "id": "9JrJsVx5cM46"
      },
      "source": [
        "And we can plot the results with the data points themselves as circles and a local regression model as a line."
      ]
    },
    {
      "cell_type": "code",
      "metadata": {
        "id": "l5GxrOf3cM46",
        "colab": {
          "base_uri": "https://localhost:8080/",
          "height": 297
        },
        "outputId": "bce23cb7-15ba-4587-e41a-b4eaf3331747"
      },
      "source": [
        "plot_series_lowess(time_series, 'C1')\n",
        "\n",
        "decorate(xlabel='Year',\n",
        "         ylabel='Fraction saying yes',\n",
        "         xlim=[1970, 2020],\n",
        "         title='Is premarital not wrong at all?')"
      ],
      "execution_count": null,
      "outputs": [
        {
          "output_type": "display_data",
          "data": {
            "image/png": "[encoded data removed]",
            "text/plain": [
              "<Figure size 432x288 with 1 Axes>"
            ]
          },
          "metadata": {
            "tags": [],
            "needs_background": "light"
          }
        }
      ]
    },
    {
      "cell_type": "markdown",
      "metadata": {
        "id": "9ktZ8rk2cM4-"
      },
      "source": [
        "Again, you should add some text here to interpret the results you get for your variable."
      ]
    },
    {
      "cell_type": "markdown",
      "metadata": {
        "id": "D58ivlDfcM4-"
      },
      "source": [
        "## Time series by group\n",
        "\n",
        "So far, we have grouped by `polviews3` and computed the mean of the variable of interest in each group.\n",
        "\n",
        "Then we grouped by `year` and computed the mean for each year.\n",
        "\n",
        "Now we'll use `pivot_table` to compute the mean in each group for each year."
      ]
    },
    {
      "cell_type": "code",
      "metadata": {
        "id": "Hd7OGMIOcM4_"
      },
      "source": [
        "table = gss.pivot_table(values='recoded', \n",
        "                        index='year', \n",
        "                        columns='polviews3', \n",
        "                        aggfunc='mean')"
      ],
      "execution_count": null,
      "outputs": []
    },
    {
      "cell_type": "markdown",
      "metadata": {
        "id": "F2bODBWicM5B"
      },
      "source": [
        "The result is a table that has years running down the rows and political alignment running across the columns.\n",
        "\n",
        "Each entry in the table is the mean of the variable of interest for a given group in a given year."
      ]
    },
    {
      "cell_type": "code",
      "metadata": {
        "id": "EqbI1A0zcM5C",
        "colab": {
          "base_uri": "https://localhost:8080/",
          "height": 225
        },
        "outputId": "9deaa437-24d8-4eeb-895c-cb7b47ac5e57"
      },
      "source": [
        "table.head()"
      ],
      "execution_count": null,
      "outputs": [
        {
          "output_type": "execute_result",
          "data": {
            "text/html": [
              "<div>\n",
              "<style scoped>\n",
              "    .dataframe tbody tr th:only-of-type {\n",
              "        vertical-align: middle;\n",
              "    }\n",
              "\n",
              "    .dataframe tbody tr th {\n",
              "        vertical-align: top;\n",
              "    }\n",
              "\n",
              "    .dataframe thead th {\n",
              "        text-align: right;\n",
              "    }\n",
              "</style>\n",
              "<table border=\"1\" class=\"dataframe\">\n",
              "  <thead>\n",
              "    <tr style=\"text-align: right;\">\n",
              "      <th>polviews3</th>\n",
              "      <th>Conservative</th>\n",
              "      <th>Liberal</th>\n",
              "      <th>Moderate</th>\n",
              "    </tr>\n",
              "    <tr>\n",
              "      <th>year</th>\n",
              "      <th></th>\n",
              "      <th></th>\n",
              "      <th></th>\n",
              "    </tr>\n",
              "  </thead>\n",
              "  <tbody>\n",
              "    <tr>\n",
              "      <th>1974</th>\n",
              "      <td>0.211905</td>\n",
              "      <td>0.404598</td>\n",
              "      <td>0.299228</td>\n",
              "    </tr>\n",
              "    <tr>\n",
              "      <th>1975</th>\n",
              "      <td>0.246851</td>\n",
              "      <td>0.408776</td>\n",
              "      <td>0.334638</td>\n",
              "    </tr>\n",
              "    <tr>\n",
              "      <th>1977</th>\n",
              "      <td>0.242081</td>\n",
              "      <td>0.471429</td>\n",
              "      <td>0.364747</td>\n",
              "    </tr>\n",
              "    <tr>\n",
              "      <th>1978</th>\n",
              "      <td>0.261339</td>\n",
              "      <td>0.515663</td>\n",
              "      <td>0.373162</td>\n",
              "    </tr>\n",
              "    <tr>\n",
              "      <th>1982</th>\n",
              "      <td>0.346225</td>\n",
              "      <td>0.550980</td>\n",
              "      <td>0.420970</td>\n",
              "    </tr>\n",
              "  </tbody>\n",
              "</table>\n",
              "</div>"
            ],
            "text/plain": [
              "polviews3  Conservative   Liberal  Moderate\n",
              "year                                       \n",
              "1974           0.211905  0.404598  0.299228\n",
              "1975           0.246851  0.408776  0.334638\n",
              "1977           0.242081  0.471429  0.364747\n",
              "1978           0.261339  0.515663  0.373162\n",
              "1982           0.346225  0.550980  0.420970"
            ]
          },
          "metadata": {
            "tags": []
          },
          "execution_count": 49
        }
      ]
    },
    {
      "cell_type": "markdown",
      "metadata": {
        "id": "9_fZuTwacM5E"
      },
      "source": [
        "## Plotting the results"
      ]
    },
    {
      "cell_type": "markdown",
      "metadata": {
        "id": "pmPEqi1IcM5F"
      },
      "source": [
        "Now we can use `plot_columns_lowess` to see the results."
      ]
    },
    {
      "cell_type": "code",
      "metadata": {
        "id": "OEw347jicM5I"
      },
      "source": [
        "columns = ['Conservative', 'Moderate', 'Liberal']"
      ],
      "execution_count": null,
      "outputs": []
    },
    {
      "cell_type": "code",
      "metadata": {
        "id": "P8aqutUMcM5L",
        "colab": {
          "base_uri": "https://localhost:8080/",
          "height": 297
        },
        "outputId": "728fe77c-d25a-48b7-f45c-ceb615e00aeb"
      },
      "source": [
        "plot_columns_lowess(table, columns, color_map)\n",
        "\n",
        "decorate(xlabel='Year',\n",
        "         ylabel='Fraction saying yes',\n",
        "         xlim=[1970, 2020],\n",
        "         title='Is having premarital sex not wrong at all?')\n",
        "\n",
        "plt.legend();"
      ],
      "execution_count": null,
      "outputs": [
        {
          "output_type": "display_data",
          "data": {
            "image/png": "[encoded data removed]",
            "text/plain": [
              "<Figure size 432x288 with 1 Axes>"
            ]
          },
          "metadata": {
            "tags": [],
            "needs_background": "light"
          }
        }
      ]
    },
    {
      "cell_type": "markdown",
      "metadata": {
        "id": "9sDq-1kNcM5P"
      },
      "source": [
        "You should write a few sentences here to interpret the results."
      ]
    },
    {
      "cell_type": "markdown",
      "metadata": {
        "id": "JpC0gNdpcM5P"
      },
      "source": [
        "## Resampling\n",
        "\n",
        "The figures we have generated so far in this notebook are based on a single resampling of the GSS data.  Some of the features we see in these figures might be due to random sampling rather than actual changes in the world.\n",
        "\n",
        "By generating the same figures with different resampled datasets, we can get a sense of how much variation there is due to random sampling.\n",
        "\n",
        "To make that easier, the following function contains the code from the previous analysis all in one place.\n",
        "\n",
        "You will probably have to update this function with any changes you made in my code."
      ]
    },
    {
      "cell_type": "code",
      "metadata": {
        "id": "JhYe9htxcM5Q"
      },
      "source": [
        "def plot_by_polviews(gss):\n",
        "    \"\"\"Plot mean response by polviews and year.\n",
        "    \n",
        "    gss: DataFrame\n",
        "    \"\"\"\n",
        "    gss['polviews3'] = gss['polviews'].replace(d_polviews)\n",
        "    gss['recoded'] = gss['premarsx'].replace(d_recode)\n",
        "    \n",
        "    table = gss.pivot_table(values='recoded', \n",
        "                        index='year', \n",
        "                        columns='polviews3', \n",
        "                        aggfunc='mean')\n",
        "\n",
        "    plot_columns_lowess(table, columns, color_map)\n",
        "\n",
        "    decorate(xlabel='Year',\n",
        "             ylabel='Fraction saying yes',\n",
        "             xlim=[1970, 2020],\n",
        "             title='Is pre-marital sex always wrong?')"
      ],
      "execution_count": null,
      "outputs": []
    },
    {
      "cell_type": "markdown",
      "metadata": {
        "id": "rubXH4L_cM5S"
      },
      "source": [
        "Now we can loop through the three resampled datasets in the HDF5 file and generate a figure for each one."
      ]
    },
    {
      "cell_type": "code",
      "metadata": {
        "id": "ppRpBUxNcM5S",
        "colab": {
          "base_uri": "https://localhost:8080/",
          "height": 857
        },
        "outputId": "68ac6adc-c12a-47aa-9bc4-a69813353966"
      },
      "source": [
        "for key in ['gss0', 'gss1', 'gss2']:\n",
        "    df = pd.read_hdf('gss_eda.3.hdf5', key)\n",
        "\n",
        "    plt.figure()\n",
        "    plot_by_polviews(df)"
      ],
      "execution_count": null,
      "outputs": [
        {
          "output_type": "display_data",
          "data": {
            "image/png": "[encoded data removed]",
            "text/plain": [
              "<Figure size 432x288 with 1 Axes>"
            ]
          },
          "metadata": {
            "tags": [],
            "needs_background": "light"
          }
        },
        {
          "output_type": "display_data",
          "data": {
            "image/png": "[encoded data removed]",
            "text/plain": [
              "<Figure size 432x288 with 1 Axes>"
            ]
          },
          "metadata": {
            "tags": [],
            "needs_background": "light"
          }
        },
        {
          "output_type": "display_data",
          "data": {
            "image/png": "[encoded data removed]",
            "text/plain": [
              "<Figure size 432x288 with 1 Axes>"
            ]
          },
          "metadata": {
            "tags": [],
            "needs_background": "light"
          }
        }
      ]
    }
  ]
}